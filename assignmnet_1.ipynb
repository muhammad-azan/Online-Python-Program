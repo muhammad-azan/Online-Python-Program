{
  "cells": [
    {
      "cell_type": "markdown",
      "source": [
        "Question : 1"
      ],
      "metadata": {
        "id": "Am3b4tYEnJ4s"
      }
    },
    {
      "cell_type": "code",
      "execution_count": 7,
      "metadata": {
        "colab": {
          "base_uri": "https://localhost:8080/"
        },
        "id": "ZkFqTlpzmVVY",
        "outputId": "ef0c3048-3f7b-4f11-b4c5-92716b42fd1e"
      },
      "outputs": [
        {
          "output_type": "stream",
          "name": "stdout",
          "text": [
            "Twinkle, twinkle, little star,\n",
            "\tHow I wonder what you are!\n",
            "\t\tUp above the world so high,\n",
            "\t\tLike a Diamond in the sky.\n",
            "Twinkle, twinkle, little star,\n",
            "\tHow I wonder what you are.\n"
          ]
        }
      ],
      "source": [
        "print(\"Twinkle, twinkle, little star,\\n\\tHow I wonder what you are!\\n\\t\\tUp above the world so high,\\n\\t\\tLike a Diamond in the sky.\\nTwinkle, twinkle, little star,\\n\\tHow I wonder what you are.\")"
      ]
    },
    {
      "cell_type": "markdown",
      "source": [
        "Question : 2\n"
      ],
      "metadata": {
        "id": "oGIQcCxinPMN"
      }
    },
    {
      "cell_type": "code",
      "execution_count": 2,
      "metadata": {
        "colab": {
          "base_uri": "https://localhost:8080/"
        },
        "id": "XiyfQ821mVVn",
        "outputId": "f6af058e-ce3e-4266-c5b0-0266615421c2"
      },
      "outputs": [
        {
          "output_type": "stream",
          "name": "stdout",
          "text": [
            "Installed Version of Python Is:  3.7.12 (default, Sep 10 2021, 00:21:48) \n",
            "[GCC 7.5.0]\n"
          ]
        }
      ],
      "source": [
        "import sys\n",
        "\n",
        "print(\"Installed Version of Python Is: \",sys.version)"
      ]
    },
    {
      "cell_type": "markdown",
      "source": [
        "Question : 3\n"
      ],
      "metadata": {
        "id": "8MIQLAvrnR04"
      }
    },
    {
      "cell_type": "code",
      "execution_count": 3,
      "metadata": {
        "colab": {
          "base_uri": "https://localhost:8080/"
        },
        "id": "nnHsZGDXmVV2",
        "outputId": "a2623eb3-cd30-4652-e19b-ceb282ac5431"
      },
      "outputs": [
        {
          "output_type": "stream",
          "name": "stdout",
          "text": [
            "Current Date and Time:  2022-01-01 21:44:16.767309\n"
          ]
        }
      ],
      "source": [
        "import datetime\n",
        "\n",
        "print(\"Current Date and Time: \",datetime.datetime.now())"
      ]
    },
    {
      "cell_type": "markdown",
      "source": [
        "Question : 4\n"
      ],
      "metadata": {
        "id": "SjhWPXJqnUJ8"
      }
    },
    {
      "cell_type": "code",
      "execution_count": 4,
      "metadata": {
        "colab": {
          "base_uri": "https://localhost:8080/"
        },
        "id": "u0yWF0eimVV5",
        "outputId": "4cc441ff-bba6-4081-c3dc-b9f3f231c6f6"
      },
      "outputs": [
        {
          "output_type": "stream",
          "name": "stdout",
          "text": [
            "Enter Radius: 45\n",
            "Area of circle is :  6361.725123519332\n"
          ]
        }
      ],
      "source": [
        "import  math\n",
        "radius = int(input(\"Enter Radius: \"))\n",
        "area = math.pi*radius*radius\n",
        "print(\"Area of circle is : \", area)"
      ]
    },
    {
      "cell_type": "markdown",
      "source": [
        "Question : 5\n"
      ],
      "metadata": {
        "id": "Ul0p2x3AnWvQ"
      }
    },
    {
      "cell_type": "code",
      "execution_count": 6,
      "metadata": {
        "colab": {
          "base_uri": "https://localhost:8080/"
        },
        "id": "ksZjMHnNmVV-",
        "outputId": "a7a10107-6ccc-4fb8-ddf1-9013aa8e8429"
      },
      "outputs": [
        {
          "output_type": "stream",
          "name": "stdout",
          "text": [
            "Enter First Name: Azan\n",
            "Enter Last Name: Ali\n",
            "Ali Azan\n"
          ]
        }
      ],
      "source": [
        "firstName = input('Enter First Name: ')\n",
        "lastName = input('Enter Last Name: ')\n",
        "print(lastName,firstName)"
      ]
    },
    {
      "cell_type": "markdown",
      "source": [
        "Question : 6\n"
      ],
      "metadata": {
        "id": "8jFUwXLhnZqR"
      }
    },
    {
      "cell_type": "code",
      "execution_count": 8,
      "metadata": {
        "colab": {
          "base_uri": "https://localhost:8080/"
        },
        "id": "ajfh9U73mVWF",
        "outputId": "602720cc-6716-4a64-c247-b302001db0cd"
      },
      "outputs": [
        {
          "output_type": "stream",
          "name": "stdout",
          "text": [
            "Enter First Number: 56\n",
            "Enter Second Number: 54\n",
            "Addition:  110\n"
          ]
        }
      ],
      "source": [
        "a = int(input(\"Enter First Number: \"))\n",
        "b = int(input(\"Enter Second Number: \"))\n",
        "print(\"Addition: \",a+b)"
      ]
    },
    {
      "cell_type": "code",
      "source": [
        ""
      ],
      "metadata": {
        "id": "hwryBfKona-3"
      },
      "execution_count": 8,
      "outputs": []
    }
  ],
  "metadata": {
    "interpreter": {
      "hash": "529980b512f66751a19d9a50ccade1473017b1fca211a22472abe21d303853c4"
    },
    "kernelspec": {
      "display_name": "Python 3.10.0 64-bit",
      "name": "python3"
    },
    "language_info": {
      "codemirror_mode": {
        "name": "ipython",
        "version": 3
      },
      "file_extension": ".py",
      "mimetype": "text/x-python",
      "name": "python",
      "nbconvert_exporter": "python",
      "pygments_lexer": "ipython3",
      "version": "3.10.0"
    },
    "orig_nbformat": 4,
    "colab": {
      "name": "assignmnet_1.ipynb",
      "provenance": []
    }
  },
  "nbformat": 4,
  "nbformat_minor": 0
}